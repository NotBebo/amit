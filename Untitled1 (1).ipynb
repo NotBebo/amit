{
 "cells": [
  {
   "cell_type": "code",
   "execution_count": 9,
   "id": "1e247a94",
   "metadata": {},
   "outputs": [
    {
     "name": "stdout",
     "output_type": "stream",
     "text": [
      "g = 5\n",
      "Me = 4\n",
      "Mm = 3\n",
      "R = 2\n",
      "you'r result is = 1.4999999999999997e+20 \n"
     ]
    }
   ],
   "source": [
    "G = float(input(\"g = \"))\n",
    "Me = float(input(\"Me = \"))\n",
    "Mm = float(input(\"Mm = \"))\n",
    "R = float(input(\"R = \"))\n",
    "\n",
    "G = G*(10**-11)\n",
    "Me = Me*(10**24)\n",
    "Mm = Mm*(10**22)\n",
    "R = R*(10**8)\n",
    "\n",
    "Fg = (G*Me*Mm)/(R**2)\n",
    "\n",
    "print(\"you'r result is = {} \".format(Fg))"
   ]
  },
  {
   "cell_type": "code",
   "execution_count": null,
   "id": "4555bd59",
   "metadata": {},
   "outputs": [],
   "source": []
  }
 ],
 "metadata": {
  "kernelspec": {
   "display_name": "Python 3 (ipykernel)",
   "language": "python",
   "name": "python3"
  },
  "language_info": {
   "codemirror_mode": {
    "name": "ipython",
    "version": 3
   },
   "file_extension": ".py",
   "mimetype": "text/x-python",
   "name": "python",
   "nbconvert_exporter": "python",
   "pygments_lexer": "ipython3",
   "version": "3.10.9"
  }
 },
 "nbformat": 4,
 "nbformat_minor": 5
}
